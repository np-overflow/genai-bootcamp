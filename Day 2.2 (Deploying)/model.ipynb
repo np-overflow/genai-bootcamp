{
  "cells": [
    {
      "cell_type": "markdown",
      "metadata": {
        "id": "_4lZj-BP33Ux"
      },
      "source": [
        "# Basics of sequence to sequence (seq2seq) models\n",
        "\n",
        "## Character level translation model"
      ]
    },
    {
      "cell_type": "code",
      "source": [
        "from google.colab import drive\n",
        "drive.mount('/content/drive')"
      ],
      "metadata": {
        "colab": {
          "base_uri": "https://localhost:8080/"
        },
        "id": "BdOcOE1p4k_p",
        "outputId": "df497a5f-b7b1-4509-f1a2-14490a7c96e4"
      },
      "execution_count": 6,
      "outputs": [
        {
          "output_type": "stream",
          "name": "stdout",
          "text": [
            "Mounted at /content/drive\n"
          ]
        }
      ]
    },
    {
      "cell_type": "markdown",
      "metadata": {
        "id": "_AVe8p8k33Uz"
      },
      "source": [
        "Note: a lot of variable names are shorthands (i.e seqlen = sequence length)\n",
        "Rationale being I don't want essays as variable names\n",
        "\n",
        "feel free to change ^"
      ]
    },
    {
      "cell_type": "code",
      "execution_count": 1,
      "metadata": {
        "id": "iwOVwfdw33U0"
      },
      "outputs": [],
      "source": [
        "# imports\n",
        "\n",
        "import numpy as np\n",
        "import keras"
      ]
    },
    {
      "cell_type": "markdown",
      "metadata": {
        "id": "QPGRmGeq33U1"
      },
      "source": [
        "### Download the dataset [here](http://www.manythings.org/anki/fra-eng.zip)"
      ]
    },
    {
      "cell_type": "code",
      "execution_count": 2,
      "metadata": {
        "id": "bZVvYcyk33U1"
      },
      "outputs": [],
      "source": [
        "#i have no ieda if this eve nwroks\n",
        "\n",
        "# fpath = keras.utils.get_file(origin=\"http://www.manythings.org/anki/fra-eng.zip\")\n",
        "# dirpath = Path(fpath).parent.absolute()\n",
        "# os.system(f\"unzip -q {fpath} -d {dirpath}\")"
      ]
    },
    {
      "cell_type": "markdown",
      "metadata": {
        "id": "qbwW1q9333U1"
      },
      "source": [
        "### Config"
      ]
    },
    {
      "cell_type": "code",
      "execution_count": 11,
      "metadata": {
        "id": "qBubNWv233U1"
      },
      "outputs": [],
      "source": [
        "batch_sz = 64\n",
        "epoch = 100\n",
        "latent_dim = 256\n",
        "num_samples = 10000\n",
        "\n",
        "data_path = \"/content/drive/MyDrive/GenAI/fra.txt\""
      ]
    },
    {
      "cell_type": "markdown",
      "metadata": {
        "id": "39-x4khz33U1"
      },
      "source": [
        "### Preprocessing Data"
      ]
    },
    {
      "cell_type": "code",
      "execution_count": 12,
      "metadata": {
        "colab": {
          "base_uri": "https://localhost:8080/"
        },
        "id": "quXLEvzC33U1",
        "outputId": "0a647c19-b8c6-4bef-ca9c-0a6251931f61"
      },
      "outputs": [
        {
          "output_type": "stream",
          "name": "stdout",
          "text": [
            "Number of samples: 10000\n",
            "Number of unique input tokens: 70\n",
            "Number of unique output tokens: 93\n",
            "Max seqlen for input: 14\n",
            "Max seqlen for output: 59\n"
          ]
        }
      ],
      "source": [
        "input_texts, target_texts = [], []\n",
        "input_chars, target_chars = set(), set()\n",
        "\n",
        "with open(data_path, \"r\", encoding=\"utf-8\") as file:\n",
        "    lines = file.read().split(\"\\n\")\n",
        "\n",
        "# populate working data\n",
        "for line in lines[:min(num_samples, len(lines) - 1)]:\n",
        "    # we use _ to indicate that a variable should be ignored\n",
        "    # in this case, the 3rd column is the citation (something something),\n",
        "    # which is irrelevant to our task at hand\n",
        "    input_text, target_text, _ = line.split(\"\\t\")\n",
        "\n",
        "    target_text = \"\\t\" + target_text + \"\\n\"\n",
        "    input_texts.append(input_text)\n",
        "    target_texts.append(target_text)\n",
        "\n",
        "    input_chars.update(input_text)\n",
        "    target_chars.update(target_text)\n",
        "\n",
        "\n",
        "input_chars, target_chars = sorted(list(input_chars)), sorted(list(target_chars))\n",
        "num_enc_token, num_dec_token = len(input_chars), len(target_chars)\n",
        "max_enc_seqlen, max_dec_seqlen = len(max(input_texts, key=len)), \\\n",
        "                                    len(max(target_texts, key=len))\n",
        "\n",
        "print(f\"Number of samples: {len(input_texts)}\\n\" +\n",
        "      f\"Number of unique input tokens: {num_enc_token}\\n\" +\n",
        "      f\"Number of unique output tokens: {num_dec_token}\\n\" +\n",
        "      f\"Max seqlen for input: {max_enc_seqlen}\\n\" +\n",
        "      f\"Max seqlen for output: {max_dec_seqlen}\")\n",
        "\n",
        "input_token_index, target_token_index = dict([(char, i) for i, char in enumerate(input_chars)]), \\\n",
        "                                        dict([(char, i) for i, char in enumerate(target_chars)])\n",
        "\n",
        "encoder_input_data = np.zeros((len(input_texts),\n",
        "                            max_enc_seqlen,\n",
        "                            num_enc_token))\n",
        "\n",
        "decoder_input_data = np.zeros((len(input_texts),\n",
        "                                max_dec_seqlen,\n",
        "                                num_dec_token))\n",
        "\n",
        "decoder_target_data = np.zeros((len(input_texts),\n",
        "                                max_dec_seqlen,\n",
        "                                num_dec_token))\n",
        "\n",
        "for i, (input_text, target_text) in enumerate(zip(input_texts, target_texts)):\n",
        "    for t, char in enumerate(input_text):\n",
        "        encoder_input_data[i, t, input_token_index[char]] = 1.0\n",
        "    decoder_input_data[i, t + 1 :, input_token_index[\" \"]] = 1.0\n",
        "    for t, char in enumerate(target_text):\n",
        "        # decoder_target_data is ahead of decoder_input_data by one timestep\n",
        "        decoder_input_data[i, t, target_token_index[char]] = 1.0\n",
        "        if t > 0:\n",
        "            # decoder_target_data will be ahead by one timestep\n",
        "            # and will not include the start character\n",
        "            decoder_target_data[i, t - 1, target_token_index[char]] = 1.0\n",
        "    decoder_input_data[i, t + 1 :, target_token_index[\" \"]] = 1.0\n",
        "    decoder_target_data[i, t:, target_token_index[\" \"]] = 1.0"
      ]
    },
    {
      "cell_type": "markdown",
      "metadata": {
        "id": "BVdxzZE033U1"
      },
      "source": [
        "### Building the model"
      ]
    },
    {
      "cell_type": "code",
      "execution_count": 13,
      "metadata": {
        "id": "5obaSAmI33U1"
      },
      "outputs": [],
      "source": [
        "encoder_inputs = keras.Input(shape=(None, num_enc_token))\n",
        "encoder = keras.layers.LSTM(latent_dim, return_state=True)\n",
        "encoder_outputs, state_h, state_c = encoder(encoder_inputs)\n",
        "\n",
        "encoder_states = [state_h, state_c]\n",
        "decoder_inputs = keras.Input(shape=(None, num_dec_token))\n",
        "\n",
        "decoder_lstm = keras.layers.LSTM(latent_dim, return_sequences=True, return_state=True)\n",
        "decoder_outputs, _, _ = decoder_lstm(decoder_inputs, initial_state=encoder_states)\n",
        "decoder_dense = keras.layers.Dense(num_dec_token, activation=\"softmax\")\n",
        "decoder_outputs = decoder_dense(decoder_outputs)\n",
        "\n",
        "model = keras.Model([encoder_inputs, decoder_inputs], decoder_outputs)"
      ]
    },
    {
      "cell_type": "markdown",
      "metadata": {
        "id": "JJgYIyw733U2"
      },
      "source": [
        "### Training"
      ]
    },
    {
      "cell_type": "code",
      "execution_count": 14,
      "metadata": {
        "colab": {
          "base_uri": "https://localhost:8080/"
        },
        "id": "trxEj1La33U2",
        "outputId": "a8c82447-b43c-468b-f139-0d8339cb969d"
      },
      "outputs": [
        {
          "output_type": "stream",
          "name": "stdout",
          "text": [
            "Epoch 1/100\n",
            "125/125 [==============================] - 7s 22ms/step - loss: 1.1970 - accuracy: 0.7338 - val_loss: 1.0829 - val_accuracy: 0.7129\n",
            "Epoch 2/100\n",
            "125/125 [==============================] - 1s 10ms/step - loss: 0.9293 - accuracy: 0.7486 - val_loss: 0.9708 - val_accuracy: 0.7177\n",
            "Epoch 3/100\n",
            "125/125 [==============================] - 1s 10ms/step - loss: 0.8380 - accuracy: 0.7668 - val_loss: 0.8719 - val_accuracy: 0.7504\n",
            "Epoch 4/100\n",
            "125/125 [==============================] - 1s 10ms/step - loss: 0.7334 - accuracy: 0.7929 - val_loss: 0.7662 - val_accuracy: 0.7760\n",
            "Epoch 5/100\n",
            "125/125 [==============================] - 1s 11ms/step - loss: 0.6613 - accuracy: 0.8100 - val_loss: 0.7059 - val_accuracy: 0.7947\n",
            "Epoch 6/100\n",
            "125/125 [==============================] - 1s 10ms/step - loss: 0.6220 - accuracy: 0.8187 - val_loss: 0.6831 - val_accuracy: 0.8028\n",
            "Epoch 7/100\n",
            "125/125 [==============================] - 1s 12ms/step - loss: 0.5938 - accuracy: 0.8259 - val_loss: 0.6552 - val_accuracy: 0.8078\n",
            "Epoch 8/100\n",
            "125/125 [==============================] - 2s 12ms/step - loss: 0.5709 - accuracy: 0.8322 - val_loss: 0.6198 - val_accuracy: 0.8199\n",
            "Epoch 9/100\n",
            "125/125 [==============================] - 2s 13ms/step - loss: 0.5506 - accuracy: 0.8386 - val_loss: 0.6215 - val_accuracy: 0.8165\n",
            "Epoch 10/100\n",
            "125/125 [==============================] - 1s 12ms/step - loss: 0.5319 - accuracy: 0.8441 - val_loss: 0.5932 - val_accuracy: 0.8269\n",
            "Epoch 11/100\n",
            "125/125 [==============================] - 1s 10ms/step - loss: 0.5138 - accuracy: 0.8498 - val_loss: 0.5751 - val_accuracy: 0.8351\n",
            "Epoch 12/100\n",
            "125/125 [==============================] - 1s 10ms/step - loss: 0.4974 - accuracy: 0.8545 - val_loss: 0.5657 - val_accuracy: 0.8364\n",
            "Epoch 13/100\n",
            "125/125 [==============================] - 1s 10ms/step - loss: 0.4835 - accuracy: 0.8586 - val_loss: 0.5529 - val_accuracy: 0.8392\n",
            "Epoch 14/100\n",
            "125/125 [==============================] - 1s 10ms/step - loss: 0.4707 - accuracy: 0.8618 - val_loss: 0.5477 - val_accuracy: 0.8406\n",
            "Epoch 15/100\n",
            "125/125 [==============================] - 1s 10ms/step - loss: 0.4600 - accuracy: 0.8649 - val_loss: 0.5318 - val_accuracy: 0.8461\n",
            "Epoch 16/100\n",
            "125/125 [==============================] - 1s 10ms/step - loss: 0.4493 - accuracy: 0.8680 - val_loss: 0.5245 - val_accuracy: 0.8467\n",
            "Epoch 17/100\n",
            "125/125 [==============================] - 1s 10ms/step - loss: 0.4400 - accuracy: 0.8700 - val_loss: 0.5171 - val_accuracy: 0.8494\n",
            "Epoch 18/100\n",
            "125/125 [==============================] - 2s 13ms/step - loss: 0.4312 - accuracy: 0.8725 - val_loss: 0.5040 - val_accuracy: 0.8526\n",
            "Epoch 19/100\n",
            "125/125 [==============================] - 2s 14ms/step - loss: 0.4224 - accuracy: 0.8749 - val_loss: 0.5017 - val_accuracy: 0.8530\n",
            "Epoch 20/100\n",
            "125/125 [==============================] - 1s 11ms/step - loss: 0.4150 - accuracy: 0.8772 - val_loss: 0.4988 - val_accuracy: 0.8544\n",
            "Epoch 21/100\n",
            "125/125 [==============================] - 1s 10ms/step - loss: 0.4078 - accuracy: 0.8791 - val_loss: 0.4899 - val_accuracy: 0.8569\n",
            "Epoch 22/100\n",
            "125/125 [==============================] - 1s 11ms/step - loss: 0.4004 - accuracy: 0.8807 - val_loss: 0.4831 - val_accuracy: 0.8588\n",
            "Epoch 23/100\n",
            "125/125 [==============================] - 1s 11ms/step - loss: 0.3946 - accuracy: 0.8827 - val_loss: 0.4859 - val_accuracy: 0.8568\n",
            "Epoch 24/100\n",
            "125/125 [==============================] - 2s 17ms/step - loss: 0.3874 - accuracy: 0.8844 - val_loss: 0.4753 - val_accuracy: 0.8598\n",
            "Epoch 25/100\n",
            "125/125 [==============================] - 2s 20ms/step - loss: 0.3809 - accuracy: 0.8864 - val_loss: 0.4722 - val_accuracy: 0.8607\n",
            "Epoch 26/100\n",
            "125/125 [==============================] - 2s 13ms/step - loss: 0.3747 - accuracy: 0.8878 - val_loss: 0.4722 - val_accuracy: 0.8606\n",
            "Epoch 27/100\n",
            "125/125 [==============================] - 2s 14ms/step - loss: 0.3685 - accuracy: 0.8899 - val_loss: 0.4676 - val_accuracy: 0.8626\n",
            "Epoch 28/100\n",
            "125/125 [==============================] - 1s 11ms/step - loss: 0.3630 - accuracy: 0.8912 - val_loss: 0.4629 - val_accuracy: 0.8638\n",
            "Epoch 29/100\n",
            "125/125 [==============================] - 1s 11ms/step - loss: 0.3570 - accuracy: 0.8932 - val_loss: 0.4610 - val_accuracy: 0.8639\n",
            "Epoch 30/100\n",
            "125/125 [==============================] - 1s 10ms/step - loss: 0.3516 - accuracy: 0.8948 - val_loss: 0.4585 - val_accuracy: 0.8657\n",
            "Epoch 31/100\n",
            "125/125 [==============================] - 1s 10ms/step - loss: 0.3462 - accuracy: 0.8965 - val_loss: 0.4567 - val_accuracy: 0.8659\n",
            "Epoch 32/100\n",
            "125/125 [==============================] - 1s 11ms/step - loss: 0.3409 - accuracy: 0.8982 - val_loss: 0.4541 - val_accuracy: 0.8670\n",
            "Epoch 33/100\n",
            "125/125 [==============================] - 1s 10ms/step - loss: 0.3359 - accuracy: 0.8994 - val_loss: 0.4486 - val_accuracy: 0.8684\n",
            "Epoch 34/100\n",
            "125/125 [==============================] - 1s 10ms/step - loss: 0.3318 - accuracy: 0.9008 - val_loss: 0.4509 - val_accuracy: 0.8690\n",
            "Epoch 35/100\n",
            "125/125 [==============================] - 2s 12ms/step - loss: 0.3267 - accuracy: 0.9019 - val_loss: 0.4480 - val_accuracy: 0.8695\n",
            "Epoch 36/100\n",
            "125/125 [==============================] - 2s 13ms/step - loss: 0.3214 - accuracy: 0.9038 - val_loss: 0.4463 - val_accuracy: 0.8702\n",
            "Epoch 37/100\n",
            "125/125 [==============================] - 2s 12ms/step - loss: 0.3164 - accuracy: 0.9055 - val_loss: 0.4438 - val_accuracy: 0.8701\n",
            "Epoch 38/100\n",
            "125/125 [==============================] - 1s 10ms/step - loss: 0.3122 - accuracy: 0.9063 - val_loss: 0.4419 - val_accuracy: 0.8709\n",
            "Epoch 39/100\n",
            "125/125 [==============================] - 1s 11ms/step - loss: 0.3076 - accuracy: 0.9080 - val_loss: 0.4395 - val_accuracy: 0.8725\n",
            "Epoch 40/100\n",
            "125/125 [==============================] - 1s 10ms/step - loss: 0.3030 - accuracy: 0.9093 - val_loss: 0.4426 - val_accuracy: 0.8710\n",
            "Epoch 41/100\n",
            "125/125 [==============================] - 1s 11ms/step - loss: 0.2986 - accuracy: 0.9106 - val_loss: 0.4423 - val_accuracy: 0.8716\n",
            "Epoch 42/100\n",
            "125/125 [==============================] - 1s 10ms/step - loss: 0.2948 - accuracy: 0.9118 - val_loss: 0.4397 - val_accuracy: 0.8726\n",
            "Epoch 43/100\n",
            "125/125 [==============================] - 1s 10ms/step - loss: 0.2906 - accuracy: 0.9131 - val_loss: 0.4404 - val_accuracy: 0.8727\n",
            "Epoch 44/100\n",
            "125/125 [==============================] - 1s 10ms/step - loss: 0.2864 - accuracy: 0.9139 - val_loss: 0.4370 - val_accuracy: 0.8748\n",
            "Epoch 45/100\n",
            "125/125 [==============================] - 2s 13ms/step - loss: 0.2827 - accuracy: 0.9154 - val_loss: 0.4388 - val_accuracy: 0.8744\n",
            "Epoch 46/100\n",
            "125/125 [==============================] - 2s 14ms/step - loss: 0.2781 - accuracy: 0.9166 - val_loss: 0.4398 - val_accuracy: 0.8732\n",
            "Epoch 47/100\n",
            "125/125 [==============================] - 1s 11ms/step - loss: 0.2747 - accuracy: 0.9177 - val_loss: 0.4357 - val_accuracy: 0.8754\n",
            "Epoch 48/100\n",
            "125/125 [==============================] - 1s 11ms/step - loss: 0.2708 - accuracy: 0.9187 - val_loss: 0.4354 - val_accuracy: 0.8748\n",
            "Epoch 49/100\n",
            "125/125 [==============================] - 1s 10ms/step - loss: 0.2671 - accuracy: 0.9201 - val_loss: 0.4410 - val_accuracy: 0.8744\n",
            "Epoch 50/100\n",
            "125/125 [==============================] - 1s 10ms/step - loss: 0.2633 - accuracy: 0.9210 - val_loss: 0.4417 - val_accuracy: 0.8741\n",
            "Epoch 51/100\n",
            "125/125 [==============================] - 1s 11ms/step - loss: 0.2595 - accuracy: 0.9220 - val_loss: 0.4386 - val_accuracy: 0.8762\n",
            "Epoch 52/100\n",
            "125/125 [==============================] - 1s 10ms/step - loss: 0.2563 - accuracy: 0.9231 - val_loss: 0.4403 - val_accuracy: 0.8746\n",
            "Epoch 53/100\n",
            "125/125 [==============================] - 1s 10ms/step - loss: 0.2528 - accuracy: 0.9239 - val_loss: 0.4387 - val_accuracy: 0.8761\n",
            "Epoch 54/100\n",
            "125/125 [==============================] - 1s 11ms/step - loss: 0.2492 - accuracy: 0.9253 - val_loss: 0.4408 - val_accuracy: 0.8769\n",
            "Epoch 55/100\n",
            "125/125 [==============================] - 2s 14ms/step - loss: 0.2458 - accuracy: 0.9258 - val_loss: 0.4391 - val_accuracy: 0.8766\n",
            "Epoch 56/100\n",
            "125/125 [==============================] - 2s 13ms/step - loss: 0.2426 - accuracy: 0.9272 - val_loss: 0.4422 - val_accuracy: 0.8766\n",
            "Epoch 57/100\n",
            "125/125 [==============================] - 1s 10ms/step - loss: 0.2392 - accuracy: 0.9281 - val_loss: 0.4409 - val_accuracy: 0.8769\n",
            "Epoch 58/100\n",
            "125/125 [==============================] - 1s 10ms/step - loss: 0.2363 - accuracy: 0.9289 - val_loss: 0.4444 - val_accuracy: 0.8765\n",
            "Epoch 59/100\n",
            "125/125 [==============================] - 1s 10ms/step - loss: 0.2330 - accuracy: 0.9301 - val_loss: 0.4458 - val_accuracy: 0.8764\n",
            "Epoch 60/100\n",
            "125/125 [==============================] - 1s 10ms/step - loss: 0.2295 - accuracy: 0.9310 - val_loss: 0.4485 - val_accuracy: 0.8763\n",
            "Epoch 61/100\n",
            "125/125 [==============================] - 1s 10ms/step - loss: 0.2266 - accuracy: 0.9317 - val_loss: 0.4438 - val_accuracy: 0.8781\n",
            "Epoch 62/100\n",
            "125/125 [==============================] - 1s 11ms/step - loss: 0.2237 - accuracy: 0.9325 - val_loss: 0.4484 - val_accuracy: 0.8776\n",
            "Epoch 63/100\n",
            "125/125 [==============================] - 1s 11ms/step - loss: 0.2212 - accuracy: 0.9334 - val_loss: 0.4482 - val_accuracy: 0.8773\n",
            "Epoch 64/100\n",
            "125/125 [==============================] - 1s 12ms/step - loss: 0.2176 - accuracy: 0.9344 - val_loss: 0.4502 - val_accuracy: 0.8776\n",
            "Epoch 65/100\n",
            "125/125 [==============================] - 2s 13ms/step - loss: 0.2149 - accuracy: 0.9352 - val_loss: 0.4521 - val_accuracy: 0.8771\n",
            "Epoch 66/100\n",
            "125/125 [==============================] - 1s 12ms/step - loss: 0.2124 - accuracy: 0.9360 - val_loss: 0.4517 - val_accuracy: 0.8775\n",
            "Epoch 67/100\n",
            "125/125 [==============================] - 1s 10ms/step - loss: 0.2096 - accuracy: 0.9366 - val_loss: 0.4558 - val_accuracy: 0.8779\n",
            "Epoch 68/100\n",
            "125/125 [==============================] - 1s 10ms/step - loss: 0.2070 - accuracy: 0.9375 - val_loss: 0.4577 - val_accuracy: 0.8779\n",
            "Epoch 69/100\n",
            "125/125 [==============================] - 1s 10ms/step - loss: 0.2035 - accuracy: 0.9385 - val_loss: 0.4575 - val_accuracy: 0.8793\n",
            "Epoch 70/100\n",
            "125/125 [==============================] - 1s 10ms/step - loss: 0.2010 - accuracy: 0.9392 - val_loss: 0.4599 - val_accuracy: 0.8773\n",
            "Epoch 71/100\n",
            "125/125 [==============================] - 1s 10ms/step - loss: 0.1982 - accuracy: 0.9399 - val_loss: 0.4606 - val_accuracy: 0.8780\n",
            "Epoch 72/100\n",
            "125/125 [==============================] - 1s 10ms/step - loss: 0.1957 - accuracy: 0.9409 - val_loss: 0.4643 - val_accuracy: 0.8770\n",
            "Epoch 73/100\n",
            "125/125 [==============================] - 1s 10ms/step - loss: 0.1935 - accuracy: 0.9414 - val_loss: 0.4647 - val_accuracy: 0.8775\n",
            "Epoch 74/100\n",
            "125/125 [==============================] - 2s 13ms/step - loss: 0.1904 - accuracy: 0.9424 - val_loss: 0.4668 - val_accuracy: 0.8777\n",
            "Epoch 75/100\n",
            "125/125 [==============================] - 2s 14ms/step - loss: 0.1883 - accuracy: 0.9433 - val_loss: 0.4679 - val_accuracy: 0.8781\n",
            "Epoch 76/100\n",
            "125/125 [==============================] - 2s 12ms/step - loss: 0.1857 - accuracy: 0.9439 - val_loss: 0.4719 - val_accuracy: 0.8776\n",
            "Epoch 77/100\n",
            "125/125 [==============================] - 1s 10ms/step - loss: 0.1833 - accuracy: 0.9444 - val_loss: 0.4704 - val_accuracy: 0.8784\n",
            "Epoch 78/100\n",
            "125/125 [==============================] - 1s 11ms/step - loss: 0.1812 - accuracy: 0.9450 - val_loss: 0.4755 - val_accuracy: 0.8774\n",
            "Epoch 79/100\n",
            "125/125 [==============================] - 1s 10ms/step - loss: 0.1788 - accuracy: 0.9459 - val_loss: 0.4762 - val_accuracy: 0.8777\n",
            "Epoch 80/100\n",
            "125/125 [==============================] - 1s 11ms/step - loss: 0.1766 - accuracy: 0.9462 - val_loss: 0.4795 - val_accuracy: 0.8775\n",
            "Epoch 81/100\n",
            "125/125 [==============================] - 1s 10ms/step - loss: 0.1741 - accuracy: 0.9472 - val_loss: 0.4798 - val_accuracy: 0.8780\n",
            "Epoch 82/100\n",
            "125/125 [==============================] - 1s 10ms/step - loss: 0.1723 - accuracy: 0.9478 - val_loss: 0.4824 - val_accuracy: 0.8770\n",
            "Epoch 83/100\n",
            "125/125 [==============================] - 2s 15ms/step - loss: 0.1703 - accuracy: 0.9485 - val_loss: 0.4822 - val_accuracy: 0.8776\n",
            "Epoch 84/100\n",
            "125/125 [==============================] - 2s 18ms/step - loss: 0.1680 - accuracy: 0.9490 - val_loss: 0.4838 - val_accuracy: 0.8781\n",
            "Epoch 85/100\n",
            "125/125 [==============================] - 1s 11ms/step - loss: 0.1658 - accuracy: 0.9496 - val_loss: 0.4888 - val_accuracy: 0.8771\n",
            "Epoch 86/100\n",
            "125/125 [==============================] - 1s 10ms/step - loss: 0.1639 - accuracy: 0.9503 - val_loss: 0.4917 - val_accuracy: 0.8766\n",
            "Epoch 87/100\n",
            "125/125 [==============================] - 1s 10ms/step - loss: 0.1619 - accuracy: 0.9509 - val_loss: 0.4895 - val_accuracy: 0.8766\n",
            "Epoch 88/100\n",
            "125/125 [==============================] - 1s 10ms/step - loss: 0.1597 - accuracy: 0.9511 - val_loss: 0.4969 - val_accuracy: 0.8772\n",
            "Epoch 89/100\n",
            "125/125 [==============================] - 1s 10ms/step - loss: 0.1577 - accuracy: 0.9519 - val_loss: 0.4937 - val_accuracy: 0.8772\n",
            "Epoch 90/100\n",
            "125/125 [==============================] - 1s 10ms/step - loss: 0.1561 - accuracy: 0.9524 - val_loss: 0.4993 - val_accuracy: 0.8769\n",
            "Epoch 91/100\n",
            "125/125 [==============================] - 1s 11ms/step - loss: 0.1541 - accuracy: 0.9527 - val_loss: 0.5005 - val_accuracy: 0.8770\n",
            "Epoch 92/100\n",
            "125/125 [==============================] - 1s 12ms/step - loss: 0.1522 - accuracy: 0.9537 - val_loss: 0.5058 - val_accuracy: 0.8769\n",
            "Epoch 93/100\n",
            "125/125 [==============================] - 2s 15ms/step - loss: 0.1506 - accuracy: 0.9538 - val_loss: 0.5028 - val_accuracy: 0.8775\n",
            "Epoch 94/100\n",
            "125/125 [==============================] - 2s 13ms/step - loss: 0.1486 - accuracy: 0.9549 - val_loss: 0.5136 - val_accuracy: 0.8763\n",
            "Epoch 95/100\n",
            "125/125 [==============================] - 1s 10ms/step - loss: 0.1469 - accuracy: 0.9553 - val_loss: 0.5124 - val_accuracy: 0.8770\n",
            "Epoch 96/100\n",
            "125/125 [==============================] - 1s 10ms/step - loss: 0.1448 - accuracy: 0.9556 - val_loss: 0.5128 - val_accuracy: 0.8768\n",
            "Epoch 97/100\n",
            "125/125 [==============================] - 1s 11ms/step - loss: 0.1434 - accuracy: 0.9562 - val_loss: 0.5151 - val_accuracy: 0.8767\n",
            "Epoch 98/100\n",
            "125/125 [==============================] - 1s 10ms/step - loss: 0.1417 - accuracy: 0.9566 - val_loss: 0.5203 - val_accuracy: 0.8764\n",
            "Epoch 99/100\n",
            "125/125 [==============================] - 1s 10ms/step - loss: 0.1400 - accuracy: 0.9572 - val_loss: 0.5244 - val_accuracy: 0.8760\n",
            "Epoch 100/100\n",
            "125/125 [==============================] - 1s 11ms/step - loss: 0.1385 - accuracy: 0.9575 - val_loss: 0.5218 - val_accuracy: 0.8755\n"
          ]
        }
      ],
      "source": [
        "model.compile(optimizer=\"rmsprop\", loss=\"categorical_crossentropy\", metrics=[\"accuracy\"])\n",
        "\n",
        "model.fit(\n",
        "    [encoder_input_data, decoder_input_data],\n",
        "    decoder_target_data,\n",
        "    batch_size=batch_sz,\n",
        "    epochs=epoch,\n",
        "    validation_split=0.2,\n",
        ")\n",
        "\n",
        "#model.save(\"s2s_model.keras\")"
      ]
    },
    {
      "cell_type": "code",
      "source": [
        "import os\n",
        "directory = '/content/drive/MyDrive/GenAI'\n",
        "# Create the directory if it doesn't exist\n",
        "if not os.path.exists(directory):\n",
        "    os.makedirs(directory)\n",
        "\n",
        "# Save the model to the \"gen_ai\" directory\n",
        "model.save(os.path.join(directory, \"s2s_model.keras\"))"
      ],
      "metadata": {
        "id": "WnHQSg9K6dA_"
      },
      "execution_count": 15,
      "outputs": []
    },
    {
      "cell_type": "markdown",
      "metadata": {
        "id": "zaiDVOyU33U2"
      },
      "source": [
        "### Performing inference"
      ]
    },
    {
      "cell_type": "code",
      "execution_count": 17,
      "metadata": {
        "id": "iflm5Ipg33U2"
      },
      "outputs": [],
      "source": [
        "# load the model\n",
        "\n",
        "model = keras.models.load_model(os.path.join(directory, \"s2s_model.keras\"))"
      ]
    },
    {
      "cell_type": "markdown",
      "metadata": {
        "id": "41dmlzSj33U2"
      },
      "source": [
        "### Create encoder/decoder"
      ]
    },
    {
      "cell_type": "code",
      "execution_count": 18,
      "metadata": {
        "id": "elyvQk-k33U2"
      },
      "outputs": [],
      "source": [
        "encoder_inputs = model.input[0]  # input_1\n",
        "encoder_outputs, state_h_enc, state_c_enc = model.layers[2].output  # lstm_1\n",
        "encoder_states = [state_h_enc, state_c_enc]\n",
        "encoder_model = keras.Model(encoder_inputs, encoder_states)\n",
        "\n",
        "decoder_inputs = model.input[1]  # input_2\n",
        "decoder_state_input_h = keras.Input(shape=(latent_dim,))\n",
        "decoder_state_input_c = keras.Input(shape=(latent_dim,))\n",
        "decoder_states_inputs = [decoder_state_input_h, decoder_state_input_c]\n",
        "decoder_lstm = model.layers[3]\n",
        "decoder_outputs, state_h_dec, state_c_dec = decoder_lstm(\n",
        "    decoder_inputs, initial_state=decoder_states_inputs\n",
        ")\n",
        "decoder_states = [state_h_dec, state_c_dec]\n",
        "decoder_dense = model.layers[4]\n",
        "decoder_outputs = decoder_dense(decoder_outputs)\n",
        "decoder_model = keras.Model(\n",
        "    [decoder_inputs] + decoder_states_inputs, [decoder_outputs] + decoder_states\n",
        ")\n",
        "\n",
        "reverse_input_char_index = dict((i, char) for char, i in input_token_index.items())\n",
        "reverse_target_char_index = dict((i, char) for char, i in target_token_index.items())"
      ]
    },
    {
      "cell_type": "code",
      "execution_count": 19,
      "metadata": {
        "id": "BRjXWHQd33U2"
      },
      "outputs": [],
      "source": [
        "def decode_sequence(input_seq):\n",
        "    # encode the input as state vectors\n",
        "    states_value = encoder_model.predict(input_seq, verbose=0)\n",
        "\n",
        "    # generate empty target sequence of length 1\n",
        "    target_seq = np.zeros((1, 1, num_dec_token))\n",
        "    # populate the first character of target sequence with the start character\n",
        "    target_seq[0, 0, target_token_index[\"\\t\"]] = 1.0\n",
        "\n",
        "    # sampling loop for a batch of sequences\n",
        "    stop_condition = False\n",
        "    decoded_sentence = \"\"\n",
        "    while not stop_condition:\n",
        "        output_tokens, h, c = decoder_model.predict(\n",
        "            [target_seq] + states_value, verbose=0\n",
        "        )\n",
        "\n",
        "        # sample a token\n",
        "        sampled_token_index = np.argmax(output_tokens[0, -1, :])\n",
        "        sampled_char = reverse_target_char_index[sampled_token_index]\n",
        "        decoded_sentence += sampled_char\n",
        "\n",
        "        # exit condition: either hit max length or find stop character\n",
        "        if sampled_char == \"\\n\" or len(decoded_sentence) > max_dec_seqlen:\n",
        "            stop_condition = True\n",
        "\n",
        "        # update target seq\n",
        "        target_seq = np.zeros((1, 1, num_dec_token))\n",
        "        target_seq[0, 0, sampled_token_index] = 1.0\n",
        "\n",
        "        # update states\n",
        "        states_value = [h, c]\n",
        "    return decoded_sentence"
      ]
    },
    {
      "cell_type": "markdown",
      "metadata": {
        "id": "gydYhOzy33U3"
      },
      "source": [
        "### Generating sentences"
      ]
    },
    {
      "cell_type": "code",
      "execution_count": 20,
      "metadata": {
        "colab": {
          "base_uri": "https://localhost:8080/"
        },
        "id": "T0WebGTx33U3",
        "outputId": "cfc4a388-dc86-45ae-e508-66fbbfb3cf7b"
      },
      "outputs": [
        {
          "output_type": "stream",
          "name": "stdout",
          "text": [
            "-\n",
            "Input sentence: Go.\n",
            "Decoded sentence: Cassez-vous.\n",
            "\n",
            "-\n",
            "Input sentence: Go.\n",
            "Decoded sentence: Cassez-vous.\n",
            "\n",
            "-\n",
            "Input sentence: Go.\n",
            "Decoded sentence: Cassez-vous.\n",
            "\n",
            "-\n",
            "Input sentence: Go.\n",
            "Decoded sentence: Cassez-vous.\n",
            "\n",
            "-\n",
            "Input sentence: Hi.\n",
            "Decoded sentence: Salut !\n",
            "\n",
            "-\n",
            "Input sentence: Hi.\n",
            "Decoded sentence: Salut !\n",
            "\n",
            "-\n",
            "Input sentence: Run!\n",
            "Decoded sentence: Cours !\n",
            "\n",
            "-\n",
            "Input sentence: Run!\n",
            "Decoded sentence: Cours !\n",
            "\n",
            "-\n",
            "Input sentence: Run!\n",
            "Decoded sentence: Cours !\n",
            "\n",
            "-\n",
            "Input sentence: Run!\n",
            "Decoded sentence: Cours !\n",
            "\n",
            "-\n",
            "Input sentence: Run!\n",
            "Decoded sentence: Cours !\n",
            "\n",
            "-\n",
            "Input sentence: Run!\n",
            "Decoded sentence: Cours !\n",
            "\n",
            "-\n",
            "Input sentence: Run!\n",
            "Decoded sentence: Cours !\n",
            "\n",
            "-\n",
            "Input sentence: Run!\n",
            "Decoded sentence: Cours !\n",
            "\n",
            "-\n",
            "Input sentence: Run.\n",
            "Decoded sentence: Fuyez !\n",
            "\n",
            "-\n",
            "Input sentence: Run.\n",
            "Decoded sentence: Fuyez !\n",
            "\n",
            "-\n",
            "Input sentence: Run.\n",
            "Decoded sentence: Fuyez !\n",
            "\n",
            "-\n",
            "Input sentence: Run.\n",
            "Decoded sentence: Fuyez !\n",
            "\n",
            "-\n",
            "Input sentence: Run.\n",
            "Decoded sentence: Fuyez !\n",
            "\n",
            "-\n",
            "Input sentence: Run.\n",
            "Decoded sentence: Fuyez !\n",
            "\n"
          ]
        }
      ],
      "source": [
        "for seq_index in range(20):\n",
        "    input_seq = encoder_input_data[seq_index : seq_index + 1]\n",
        "    decoded_sentence = decode_sequence(input_seq)\n",
        "    print(\"-\")\n",
        "    print(\"Input sentence:\", input_texts[seq_index])\n",
        "    print(\"Decoded sentence:\", decoded_sentence)"
      ]
    },
    {
      "cell_type": "code",
      "source": [],
      "metadata": {
        "id": "78vbMytY68nR"
      },
      "execution_count": null,
      "outputs": []
    }
  ],
  "metadata": {
    "kernelspec": {
      "display_name": "Python 3",
      "name": "python3"
    },
    "language_info": {
      "codemirror_mode": {
        "name": "ipython",
        "version": 3
      },
      "file_extension": ".py",
      "mimetype": "text/x-python",
      "name": "python",
      "nbconvert_exporter": "python",
      "pygments_lexer": "ipython3",
      "version": "3.11.7"
    },
    "colab": {
      "provenance": [],
      "gpuType": "T4"
    },
    "accelerator": "GPU"
  },
  "nbformat": 4,
  "nbformat_minor": 0
}